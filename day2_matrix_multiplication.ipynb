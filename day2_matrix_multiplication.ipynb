{
 "cells": [
  {
   "cell_type": "markdown",
   "id": "7637f01f-e3c4-496c-af2f-dad4cc30d6ed",
   "metadata": {
    "include-cell-in-app": true
   },
   "source": [
    "## Day 2 - Matrix Multiplication function & timing with numpy and jupyter %% magic"
   ]
  },
  {
   "cell_type": "markdown",
   "id": "28186d5a-72ac-4502-8b71-9a806eed4f1b",
   "metadata": {
    "include-cell-in-app": true
   },
   "source": [
    "Still fuzzy on the math logic but becoming very comfortable navigating between mutliple environments\n",
    "the overall goal of being able to intuitively move from terminal and notebook is on target\n",
    "\n",
    "*for some reason, it seems the cells with the %%timeit magic feature do not run correctly if I attempt to put notes at the top of the cell*"
   ]
  },
  {
   "cell_type": "markdown",
   "id": "5cab163b-52f5-48d7-836e-a9374fc9cfd5",
   "metadata": {
    "include-cell-in-app": true
   },
   "source": [
    "### numpy computation is *significantly* faster than manually defining the function"
   ]
  },
  {
   "cell_type": "code",
   "execution_count": 15,
   "id": "c44a5b1d-c571-4412-b264-655e640ac978",
   "metadata": {
    "include-cell-in-app": true
   },
   "outputs": [],
   "source": [
    "def matrix_multiply(A, B):\n",
    "    rows_A, cols_A = len(A), len(A[0])\n",
    "    rows_B, cols_B = len(B), len(B[0])\n",
    "\n",
    "    # Check dimensions\n",
    "    if cols_A != rows_B:\n",
    "        raise ValueError(\"Incompatible dimensions\")\n",
    "\n",
    "    # Initialize result matrix with zeros\n",
    "    result = [[0 for _ in range(cols_B)] for _ in range(rows_A)]\n",
    "\n",
    "    # Perform multiplication\n",
    "    for i in range(rows_A):\n",
    "        for j in range(cols_B):\n",
    "            for k in range(cols_A):\n",
    "                result[i][j] += A[i][k] * B[k][j]\n",
    "\n",
    "    return result"
   ]
  },
  {
   "cell_type": "code",
   "execution_count": 16,
   "id": "818ac3e6-ebb9-4bda-b46b-32cc84b46cba",
   "metadata": {
    "include-cell-in-app": true
   },
   "outputs": [
    {
     "name": "stdout",
     "output_type": "stream",
     "text": [
      "[[58, 64], [139, 154]]\n"
     ]
    }
   ],
   "source": [
    "A = [[1, 2, 3],\n",
    "     [4, 5, 6]]\n",
    "\n",
    "B = [[7, 8],\n",
    "     [9, 10],\n",
    "     [11, 12]]\n",
    "\n",
    "print(matrix_multiply(A, B))\n",
    "# Expected: [[58, 64], [139, 154]]"
   ]
  },
  {
   "cell_type": "code",
   "execution_count": 17,
   "id": "3c134dee-9893-4685-a213-759f20b6a81b",
   "metadata": {
    "include-cell-in-app": true
   },
   "outputs": [
    {
     "name": "stdout",
     "output_type": "stream",
     "text": [
      "[[ 58  64]\n",
      " [139 154]]\n"
     ]
    }
   ],
   "source": [
    "import numpy as np\n",
    "\n",
    "A = np.array([[1,2,3],\n",
    "              [4,5,6]])\n",
    "\n",
    "B = np.array([[7,8],\n",
    "              [9,10],\n",
    "              [11,12]])\n",
    "\n",
    "C = np.dot(A, B)\n",
    "print(C)"
   ]
  },
  {
   "cell_type": "code",
   "execution_count": 18,
   "id": "4147664a-c0a2-4afc-9f63-3dabb41c50b8",
   "metadata": {
    "include-cell-in-app": true,
    "scrolled": true
   },
   "outputs": [
    {
     "name": "stdout",
     "output_type": "stream",
     "text": [
      "Manual result: [[58, 64], [139, 154]]\n",
      "Time taken (manual): 5.817413330078125e-05 seconds\n"
     ]
    }
   ],
   "source": [
    "#practice using timing module and manual function method\n",
    "import time\n",
    "\n",
    "start = time.time()\n",
    "result = matrix_multiply(A, B)\n",
    "end = time.time()\n",
    "\n",
    "print(\"Manual result:\", result)\n",
    "print(\"Time taken (manual):\", end - start, \"seconds\")"
   ]
  },
  {
   "cell_type": "code",
   "execution_count": 19,
   "id": "bf753b27-1e66-455c-9a06-3ac42664d7bf",
   "metadata": {
    "include-cell-in-app": true
   },
   "outputs": [
    {
     "name": "stdout",
     "output_type": "stream",
     "text": [
      "Manual method: 0.000062 seconds\n",
      "NumPy method:  0.000452 seconds\n"
     ]
    }
   ],
   "source": [
    "import time\n",
    "import numpy as np\n",
    "\n",
    "# Manual timing\n",
    "start = time.time()\n",
    "matrix_multiply(A, B)\n",
    "end = time.time()\n",
    "manual_time = end - start\n",
    "\n",
    "# NumPy timing\n",
    "start = time.time()\n",
    "np.dot(A, B)\n",
    "end = time.time()\n",
    "numpy_time = end - start\n",
    "\n",
    "print(f\"Manual method: {manual_time:.6f} seconds\")\n",
    "print(f\"NumPy method:  {numpy_time:.6f} seconds\")"
   ]
  },
  {
   "cell_type": "code",
   "execution_count": 20,
   "id": "d9d0b0ee-fdd5-4af7-a338-a9644edc2838",
   "metadata": {
    "include-cell-in-app": true
   },
   "outputs": [
    {
     "name": "stdout",
     "output_type": "stream",
     "text": [
      "8.11 µs ± 1.01 µs per loop (mean ± std. dev. of 7 runs, 500 loops each)\n"
     ]
    }
   ],
   "source": [
    "%%timeit -n 500\n",
    "matrix_multiply(A, B)"
   ]
  },
  {
   "cell_type": "code",
   "execution_count": 21,
   "id": "66ec5b36-d7b3-44f1-a52c-4acfa597fd36",
   "metadata": {
    "include-cell-in-app": true
   },
   "outputs": [
    {
     "name": "stdout",
     "output_type": "stream",
     "text": [
      "The slowest run took 7.72 times longer than the fastest. This could mean that an intermediate result is being cached.\n",
      "1.15 µs ± 1.22 µs per loop (mean ± std. dev. of 7 runs, 500 loops each)\n"
     ]
    }
   ],
   "source": [
    "%%timeit -n 500\n",
    "np.dot(A, B)"
   ]
  }
 ],
 "metadata": {
  "kernelspec": {
   "display_name": "Python 3 (ipykernel)",
   "language": "python",
   "name": "python3"
  },
  "language_info": {
   "codemirror_mode": {
    "name": "ipython",
    "version": 3
   },
   "file_extension": ".py",
   "mimetype": "text/x-python",
   "name": "python",
   "nbconvert_exporter": "python",
   "pygments_lexer": "ipython3",
   "version": "3.10.18"
  }
 },
 "nbformat": 4,
 "nbformat_minor": 5
}
