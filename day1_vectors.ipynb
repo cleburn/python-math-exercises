{
 "cells": [
  {
   "cell_type": "code",
   "execution_count": 1,
   "id": "454b9117-059f-4509-bebc-b46395097683",
   "metadata": {
    "include-cell-in-app": true
   },
   "outputs": [
    {
     "data": {
      "text/plain": [
       "[11, 13, 14]"
      ]
     },
     "execution_count": 1,
     "metadata": {},
     "output_type": "execute_result"
    }
   ],
   "source": [
    "v1 = [7,8,8]\n",
    "v2 = [4,5,6]\n",
    "\n",
    "def vector_add(a, b):\n",
    "    return [a[i] + b[i] for i in range(len(a))]\n",
    "\n",
    "vector_add(v1, v2)"
   ]
  },
  {
   "cell_type": "code",
   "execution_count": 2,
   "id": "a3060ca8-d97e-4a2b-953a-89ddc71fec43",
   "metadata": {
    "include-cell-in-app": true
   },
   "outputs": [
    {
     "data": {
      "text/plain": [
       "[-21, -24, -24]"
      ]
     },
     "execution_count": 2,
     "metadata": {},
     "output_type": "execute_result"
    }
   ],
   "source": [
    "def scalar_mult(c, v):\n",
    "    return [c * x for x in v]\n",
    "\n",
    "scalar_mult(3, v1)\n",
    "\n",
    "def scalar_mult_inv(c, v):\n",
    "    return [-1 * c * x for x in v]\n",
    "\n",
    "scalar_mult_inv(3, v1)"
   ]
  },
  {
   "cell_type": "code",
   "execution_count": 3,
   "id": "962ab598-775d-4498-90dd-72398a27d44c",
   "metadata": {
    "include-cell-in-app": true
   },
   "outputs": [
    {
     "data": {
      "text/plain": [
       "32"
      ]
     },
     "execution_count": 3,
     "metadata": {},
     "output_type": "execute_result"
    }
   ],
   "source": [
    "def dot_product(a, b):\n",
    "    return sum(a[i] * b[i] for i in range(len(a)))\n",
    "\n",
    "dot_product(v1, v2)"
   ]
  },
  {
   "cell_type": "code",
   "execution_count": 4,
   "id": "1faacc9c-221c-433c-a7de-14499feaa92c",
   "metadata": {
    "include-cell-in-app": true
   },
   "outputs": [
    {
     "data": {
      "text/plain": [
       "32"
      ]
     },
     "execution_count": 4,
     "metadata": {},
     "output_type": "execute_result"
    }
   ],
   "source": [
    "import numpy as np\n",
    "\n",
    "np_v1 = np.array(v1)\n",
    "np_v2 = np.array(v2)\n",
    "\n",
    "np.dot(np_v1, np_v2)"
   ]
  },
  {
   "cell_type": "markdown",
   "id": "4220acd0-1a39-4bcc-ad08-8f38113a5ae5",
   "metadata": {
    "include-cell-in-app": true
   },
   "source": [
    "# Day 1 Jupyter Math Practice and GitHub push"
   ]
  },
  {
   "cell_type": "markdown",
   "id": "870503cb-2a61-4c8a-bfe3-01ebcf1dd765",
   "metadata": {
    "include-cell-in-app": true
   },
   "source": [
    "#### practicing to set up basic formulas for linear algebra. \n",
    "The vector addition and scalar mulitplicatoin were pretty easy. It took just a second to realize what was happeing in the dot product forumula. But all in all this is making way more sense than the other hand-holding learning environments"
   ]
  },
  {
   "cell_type": "markdown",
   "id": "61919af8-3af1-4e27-8db7-bbbdabc95431",
   "metadata": {
    "include-cell-in-app": true
   },
   "source": [
    "*good god this is so much smoother than trying to learn on codecademy in their training environment.*"
   ]
  }
 ],
 "metadata": {
  "kernelspec": {
   "display_name": "Python 3 (ipykernel)",
   "language": "python",
   "name": "python3"
  },
  "language_info": {
   "codemirror_mode": {
    "name": "ipython",
    "version": 3
   },
   "file_extension": ".py",
   "mimetype": "text/x-python",
   "name": "python",
   "nbconvert_exporter": "python",
   "pygments_lexer": "ipython3",
   "version": "3.10.18"
  }
 },
 "nbformat": 4,
 "nbformat_minor": 5
}
