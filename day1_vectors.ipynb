{
 "cells": [
  {
   "cell_type": "code",
   "execution_count": 4,
   "id": "454b9117-059f-4509-bebc-b46395097683",
   "metadata": {
    "include-cell-in-app": true
   },
   "outputs": [
    {
     "data": {
      "text/plain": [
       "[11, 13, 15]"
      ]
     },
     "execution_count": 4,
     "metadata": {},
     "output_type": "execute_result"
    }
   ],
   "source": [
    "v1 = [7,8,9]\n",
    "v2 = [4,5,6]\n",
    "\n",
    "def vector_add(a, b):\n",
    "    return [a[i] + b[i] for i in range(len(a))]\n",
    "\n",
    "vector_add(v1, v2)"
   ]
  },
  {
   "cell_type": "code",
   "execution_count": 5,
   "id": "a3060ca8-d97e-4a2b-953a-89ddc71fec43",
   "metadata": {
    "include-cell-in-app": true
   },
   "outputs": [
    {
     "data": {
      "text/plain": [
       "[-21, -24, -27]"
      ]
     },
     "execution_count": 5,
     "metadata": {},
     "output_type": "execute_result"
    }
   ],
   "source": [
    "def scalar_mult(c, v):\n",
    "    return [c * x for x in v]\n",
    "\n",
    "scalar_mult(3, v1)\n",
    "\n",
    "def scalar_mult_inv(c, v):\n",
    "    return [-1 * c * x for x in v]\n",
    "\n",
    "scalar_mult_inv(3, v1)"
   ]
  },
  {
   "cell_type": "code",
   "execution_count": 6,
   "id": "5311619b-078a-4d0b-8d92-415e4a5db357",
   "metadata": {
    "include-cell-in-app": true
   },
   "outputs": [
    {
     "name": "stdout",
     "output_type": "stream",
     "text": [
      "[21, 24, 27]\n",
      "[-21, -24, -27]\n"
     ]
    }
   ],
   "source": [
    "# testing scalar and inverse scalar\n",
    "\n",
    "print(scalar_mult(3, v1))\n",
    "print(scalar_mult_inv(3, v1))"
   ]
  },
  {
   "cell_type": "code",
   "execution_count": 7,
   "id": "962ab598-775d-4498-90dd-72398a27d44c",
   "metadata": {
    "include-cell-in-app": true
   },
   "outputs": [
    {
     "data": {
      "text/plain": [
       "122"
      ]
     },
     "execution_count": 7,
     "metadata": {},
     "output_type": "execute_result"
    }
   ],
   "source": [
    "def dot_product(a, b):\n",
    "    return sum(a[i] * b[i] for i in range(len(a)))\n",
    "\n",
    "dot_product(v1, v2)"
   ]
  },
  {
   "cell_type": "code",
   "execution_count": 8,
   "id": "1faacc9c-221c-433c-a7de-14499feaa92c",
   "metadata": {
    "include-cell-in-app": true,
    "scrolled": true
   },
   "outputs": [
    {
     "data": {
      "text/plain": [
       "122"
      ]
     },
     "execution_count": 8,
     "metadata": {},
     "output_type": "execute_result"
    }
   ],
   "source": [
    "import numpy as np\n",
    "\n",
    "np_v1 = np.array(v1)\n",
    "np_v2 = np.array(v2)\n",
    "\n",
    "np.dot(np_v1, np_v2)"
   ]
  },
  {
   "cell_type": "code",
   "execution_count": 9,
   "id": "013fe4b0-1577-4894-98e9-749e67cd58c5",
   "metadata": {
    "include-cell-in-app": true
   },
   "outputs": [
    {
     "data": {
      "text/plain": [
       "[1, 27, 125, 64, 8]"
      ]
     },
     "execution_count": 9,
     "metadata": {},
     "output_type": "execute_result"
    }
   ],
   "source": [
    "matrix = [1, 3, 5, 4, 2]\n",
    "def exponent_multiplier(x, y):\n",
    "    return [i ** x for i in y]\n",
    "\n",
    "exponent_multiplier(3, matrix)"
   ]
  },
  {
   "cell_type": "code",
   "execution_count": 10,
   "id": "1305b75f-1926-4edd-9768-dc122fb56b02",
   "metadata": {
    "include-cell-in-app": true
   },
   "outputs": [
    {
     "name": "stdout",
     "output_type": "stream",
     "text": [
      "[40353607, 5159780352, 10578455953408, 20661046784]\n"
     ]
    }
   ],
   "source": [
    "list = (7, 12, 28, 14)\n",
    "print(exponent_multiplier(9, list))"
   ]
  },
  {
   "cell_type": "code",
   "execution_count": 12,
   "id": "2f492bc0-89cf-490d-b1ba-856407f6e50f",
   "metadata": {
    "include-cell-in-app": true
   },
   "outputs": [
    {
     "name": "stdout",
     "output_type": "stream",
     "text": [
      "[1, 9, 25, 16, 4]\n"
     ]
    }
   ],
   "source": [
    "print(exponent_multiplier(2, matrix))"
   ]
  },
  {
   "cell_type": "code",
   "execution_count": 13,
   "id": "54c27b4a-dfe7-4a2e-be63-baf3ffbd1e4f",
   "metadata": {
    "include-cell-in-app": true
   },
   "outputs": [
    {
     "name": "stdout",
     "output_type": "stream",
     "text": [
      "[2401, 20736, 614656, 38416]\n"
     ]
    }
   ],
   "source": [
    "print(exponent_multiplier(4, list))"
   ]
  },
  {
   "cell_type": "code",
   "execution_count": 14,
   "id": "b9d278ea-280c-406c-882d-394adb08e4b8",
   "metadata": {
    "include-cell-in-app": true
   },
   "outputs": [
    {
     "data": {
      "text/plain": [
       "[3, 9, 15, 12, 6]"
      ]
     },
     "execution_count": 14,
     "metadata": {},
     "output_type": "execute_result"
    }
   ],
   "source": [
    "scalar_mult(3, matrix)"
   ]
  },
  {
   "cell_type": "markdown",
   "id": "4220acd0-1a39-4bcc-ad08-8f38113a5ae5",
   "metadata": {
    "include-cell-in-app": true
   },
   "source": [
    "# Day 1 Jupyter Math Practice and GitHub push"
   ]
  },
  {
   "cell_type": "markdown",
   "id": "870503cb-2a61-4c8a-bfe3-01ebcf1dd765",
   "metadata": {
    "include-cell-in-app": true
   },
   "source": [
    "#### practicing to set up basic formulas for linear algebra. \n",
    "The vector addition and scalar mulitplicatoin were pretty easy. It took just a second to realize what was happeing in the dot product forumula. But all in all this is making way more sense than other learning environments"
   ]
  },
  {
   "cell_type": "markdown",
   "id": "bb925660-b372-475c-ae04-9aa736954ec0",
   "metadata": {
    "include-cell-in-app": true
   },
   "source": [
    "*making small changes to practice using GitHub"
   ]
  }
 ],
 "metadata": {
  "kernelspec": {
   "display_name": "Python 3 (ipykernel)",
   "language": "python",
   "name": "python3"
  },
  "language_info": {
   "codemirror_mode": {
    "name": "ipython",
    "version": 3
   },
   "file_extension": ".py",
   "mimetype": "text/x-python",
   "name": "python",
   "nbconvert_exporter": "python",
   "pygments_lexer": "ipython3",
   "version": "3.10.18"
  }
 },
 "nbformat": 4,
 "nbformat_minor": 5
}
