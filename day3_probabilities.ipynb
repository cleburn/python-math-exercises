{
 "cells": [
  {
   "cell_type": "code",
   "execution_count": 1,
   "id": "96b97043-d84d-42da-ac58-9d7035d7c12d",
   "metadata": {
    "include-cell-in-app": true
   },
   "outputs": [],
   "source": [
    "import random\n",
    "import numpy as np"
   ]
  },
  {
   "cell_type": "code",
   "execution_count": 2,
   "id": "90761780-73f2-4fe1-af43-4727389b6dbd",
   "metadata": {
    "include-cell-in-app": true
   },
   "outputs": [],
   "source": [
    "def roll_die():\n",
    "    return random.randint(1,6)"
   ]
  },
  {
   "cell_type": "code",
   "execution_count": 4,
   "id": "5d819250-f528-46e3-83a1-eff0cea8bfc4",
   "metadata": {
    "include-cell-in-app": true
   },
   "outputs": [
    {
     "name": "stdout",
     "output_type": "stream",
     "text": [
      "1\n",
      "5\n",
      "6\n",
      "2\n",
      "3\n",
      "6\n",
      "1\n",
      "6\n",
      "6\n",
      "1\n"
     ]
    }
   ],
   "source": [
    "for _ in range(10):\n",
    "    print(roll_die())"
   ]
  },
  {
   "cell_type": "code",
   "execution_count": 9,
   "id": "bfd89054-a7a8-4e81-ac9c-a970bf78cb86",
   "metadata": {
    "include-cell-in-app": true
   },
   "outputs": [],
   "source": [
    "sum_of_rolls = 0\n",
    "for _ in range(500):\n",
    "    sum_of_rolls += roll_die()"
   ]
  },
  {
   "cell_type": "code",
   "execution_count": 10,
   "id": "bbc1ba69-2cb1-47c9-925f-cd729acf6a95",
   "metadata": {
    "include-cell-in-app": true
   },
   "outputs": [
    {
     "name": "stdout",
     "output_type": "stream",
     "text": [
      "1752\n"
     ]
    }
   ],
   "source": [
    "print(sum_of_rolls)"
   ]
  },
  {
   "cell_type": "markdown",
   "id": "7d420a1a-5bd2-46a4-8148-d12fd3368075",
   "metadata": {
    "include-cell-in-app": true
   },
   "source": [
    "## instead of simply counting total rolls in a test set\n",
    "#### try to create a list of all outcomes \n",
    "#### so it can be graphed later"
   ]
  },
  {
   "cell_type": "code",
   "execution_count": 13,
   "id": "1118a5f3-a8f1-437a-9917-bfe2fc3f31a2",
   "metadata": {
    "include-cell-in-app": true
   },
   "outputs": [],
   "source": [
    "results = []\n",
    "for _ in range(500):\n",
    "    results.append(roll_die())"
   ]
  },
  {
   "cell_type": "code",
   "execution_count": 12,
   "id": "e91f415d-3323-4748-aaee-19553a5a6199",
   "metadata": {
    "include-cell-in-app": true
   },
   "outputs": [
    {
     "name": "stdout",
     "output_type": "stream",
     "text": [
      "[3, 6, 3, 3, 2, 2, 1, 3, 5, 2, 3, 6, 1, 5, 2, 6, 6, 1, 3, 5]\n"
     ]
    }
   ],
   "source": [
    "print(results[:20])"
   ]
  },
  {
   "cell_type": "markdown",
   "id": "d4edb779-53aa-43ff-916b-50ed1736d917",
   "metadata": {
    "include-cell-in-app": true
   },
   "source": [
    "## 2 ways to set up a counting feature"
   ]
  },
  {
   "cell_type": "code",
   "execution_count": 15,
   "id": "6736a1c1-46b2-4dcd-81ca-3a2e7048bc70",
   "metadata": {
    "include-cell-in-app": true
   },
   "outputs": [],
   "source": [
    "#manual approach \n",
    "counts = {}\n",
    "for value in results:\n",
    "    counts[value] = counts.get(value, 0) + 1"
   ]
  },
  {
   "cell_type": "code",
   "execution_count": 16,
   "id": "5cd987b8-400d-41f2-8a37-944f8db85500",
   "metadata": {
    "include-cell-in-app": true
   },
   "outputs": [],
   "source": [
    "#pythonic approach\n",
    "from collections import Counter\n",
    "counts = Counter(results)"
   ]
  },
  {
   "cell_type": "code",
   "execution_count": 17,
   "id": "8196d0ed-da3f-4953-a9da-d0b602207da0",
   "metadata": {
    "include-cell-in-app": true
   },
   "outputs": [
    {
     "name": "stdout",
     "output_type": "stream",
     "text": [
      "Counter({3: 95, 6: 93, 4: 87, 1: 86, 5: 71, 2: 68})\n"
     ]
    }
   ],
   "source": [
    "print(counts)"
   ]
  },
  {
   "cell_type": "code",
   "execution_count": null,
   "id": "8259fc30-b0bf-4e0d-bbb3-2743935ed115",
   "metadata": {
    "include-cell-in-app": true
   },
   "outputs": [],
   "source": []
  }
 ],
 "metadata": {
  "kernelspec": {
   "display_name": "Python 3 (ipykernel)",
   "language": "python",
   "name": "python3"
  },
  "language_info": {
   "codemirror_mode": {
    "name": "ipython",
    "version": 3
   },
   "file_extension": ".py",
   "mimetype": "text/x-python",
   "name": "python",
   "nbconvert_exporter": "python",
   "pygments_lexer": "ipython3",
   "version": "3.10.18"
  }
 },
 "nbformat": 4,
 "nbformat_minor": 5
}
