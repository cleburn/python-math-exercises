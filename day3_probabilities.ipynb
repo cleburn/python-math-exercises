{
 "cells": [
  {
   "cell_type": "code",
   "execution_count": 2,
   "id": "96b97043-d84d-42da-ac58-9d7035d7c12d",
   "metadata": {
    "include-cell-in-app": true
   },
   "outputs": [],
   "source": [
    "import random\n",
    "import numpy as np"
   ]
  },
  {
   "cell_type": "code",
   "execution_count": 3,
   "id": "90761780-73f2-4fe1-af43-4727389b6dbd",
   "metadata": {
    "include-cell-in-app": true
   },
   "outputs": [],
   "source": [
    "def roll_die():\n",
    "    return random.randint(1,6)"
   ]
  },
  {
   "cell_type": "code",
   "execution_count": 4,
   "id": "5d819250-f528-46e3-83a1-eff0cea8bfc4",
   "metadata": {
    "include-cell-in-app": true
   },
   "outputs": [
    {
     "name": "stdout",
     "output_type": "stream",
     "text": [
      "2\n",
      "4\n",
      "6\n",
      "2\n",
      "4\n",
      "5\n",
      "5\n",
      "1\n",
      "5\n",
      "1\n"
     ]
    }
   ],
   "source": [
    "for _ in range(10):\n",
    "    print(roll_die())"
   ]
  },
  {
   "cell_type": "code",
   "execution_count": 5,
   "id": "bfd89054-a7a8-4e81-ac9c-a970bf78cb86",
   "metadata": {
    "include-cell-in-app": true
   },
   "outputs": [],
   "source": [
    "sum_of_rolls = 0\n",
    "for _ in range(500):\n",
    "    sum_of_rolls += roll_die()"
   ]
  },
  {
   "cell_type": "code",
   "execution_count": 6,
   "id": "bbc1ba69-2cb1-47c9-925f-cd729acf6a95",
   "metadata": {
    "include-cell-in-app": true
   },
   "outputs": [
    {
     "name": "stdout",
     "output_type": "stream",
     "text": [
      "1784\n"
     ]
    }
   ],
   "source": [
    "print(sum_of_rolls)"
   ]
  },
  {
   "cell_type": "markdown",
   "id": "7d420a1a-5bd2-46a4-8148-d12fd3368075",
   "metadata": {
    "include-cell-in-app": true
   },
   "source": [
    "## instead of simply counting total rolls in a test set\n",
    "#### try to create a list of all outcomes \n",
    "#### so it can be graphed later"
   ]
  },
  {
   "cell_type": "code",
   "execution_count": 7,
   "id": "1118a5f3-a8f1-437a-9917-bfe2fc3f31a2",
   "metadata": {
    "include-cell-in-app": true
   },
   "outputs": [],
   "source": [
    "results = []\n",
    "for _ in range(500):\n",
    "    results.append(roll_die())"
   ]
  },
  {
   "cell_type": "code",
   "execution_count": 8,
   "id": "e91f415d-3323-4748-aaee-19553a5a6199",
   "metadata": {
    "include-cell-in-app": true
   },
   "outputs": [
    {
     "name": "stdout",
     "output_type": "stream",
     "text": [
      "[6, 5, 6, 3, 1, 6, 1, 1, 4, 6, 3, 2, 2, 3, 4, 1, 5, 6, 1, 2]\n"
     ]
    }
   ],
   "source": [
    "print(results[:20])"
   ]
  },
  {
   "cell_type": "markdown",
   "id": "d4edb779-53aa-43ff-916b-50ed1736d917",
   "metadata": {
    "include-cell-in-app": true
   },
   "source": [
    "## 2 ways to set up a counting feature"
   ]
  },
  {
   "cell_type": "code",
   "execution_count": 9,
   "id": "6736a1c1-46b2-4dcd-81ca-3a2e7048bc70",
   "metadata": {
    "include-cell-in-app": true
   },
   "outputs": [],
   "source": [
    "#manual approach \n",
    "counts = {}\n",
    "for value in results:\n",
    "    counts[value] = counts.get(value, 0) + 1"
   ]
  },
  {
   "cell_type": "code",
   "execution_count": 10,
   "id": "5cd987b8-400d-41f2-8a37-944f8db85500",
   "metadata": {
    "include-cell-in-app": true
   },
   "outputs": [],
   "source": [
    "#pythonic approach\n",
    "from collections import Counter\n",
    "counts = Counter(results)"
   ]
  },
  {
   "cell_type": "code",
   "execution_count": 11,
   "id": "8196d0ed-da3f-4953-a9da-d0b602207da0",
   "metadata": {
    "include-cell-in-app": true
   },
   "outputs": [
    {
     "name": "stdout",
     "output_type": "stream",
     "text": [
      "Counter({6: 100, 3: 92, 5: 84, 4: 79, 2: 79, 1: 66})\n"
     ]
    }
   ],
   "source": [
    "print(counts)"
   ]
  },
  {
   "cell_type": "code",
   "execution_count": 12,
   "id": "8259fc30-b0bf-4e0d-bbb3-2743935ed115",
   "metadata": {
    "include-cell-in-app": true
   },
   "outputs": [],
   "source": [
    "frequency_test = []\n",
    "for _ in range(1000):\n",
    "    frequency_test.append(roll_die())"
   ]
  },
  {
   "cell_type": "code",
   "execution_count": 15,
   "id": "626c9238-3a5c-4902-879c-d440780e4a15",
   "metadata": {
    "include-cell-in-app": true
   },
   "outputs": [
    {
     "name": "stdout",
     "output_type": "stream",
     "text": [
      "Counter({3: 176, 5: 175, 6: 173, 2: 166, 1: 158, 4: 152})\n"
     ]
    }
   ],
   "source": [
    "frequency_count = Counter(frequency_test)\n",
    "print(frequency_count)"
   ]
  },
  {
   "cell_type": "code",
   "execution_count": 16,
   "id": "5cd3b4cb-c4d4-45fa-a6cb-1b764421f9d6",
   "metadata": {
    "include-cell-in-app": true
   },
   "outputs": [
    {
     "name": "stdout",
     "output_type": "stream",
     "text": [
      "Average Roll Value:  3.539\n"
     ]
    }
   ],
   "source": [
    "print(\"Average Roll Value: \", (sum(frequency_test)/len(frequency_test)))"
   ]
  },
  {
   "cell_type": "markdown",
   "id": "aec2efaf-aaeb-4a9b-b9c6-836661b1a5c8",
   "metadata": {
    "include-cell-in-app": true
   },
   "source": [
    "## empirical results vs theoretical probability."
   ]
  },
  {
   "cell_type": "markdown",
   "id": "14afe7f8-4250-408a-bf9c-91e6a02f2dbb",
   "metadata": {
    "include-cell-in-app": true
   },
   "source": [
    "\t•\tYou rolled 1,000 times and captured each result.\n",
    "\t•\tYou counted the frequencies correctly.\n",
    "\t•\tYour distribution is pretty even — all values are hovering near ~166 (which is 1000 ÷ 6).\n",
    "\t•\tSlight differences (like 152 vs 176) are just randomness — if you ran it 10,000 times, it would flatten closer to perfect 1/6."
   ]
  },
  {
   "cell_type": "markdown",
   "id": "4045196d-43d3-4af6-b486-eca553051e3b",
   "metadata": {
    "include-cell-in-app": true
   },
   "source": [
    "### 👉 That’s a clear simulation of probability in action."
   ]
  },
  {
   "cell_type": "markdown",
   "id": "b2b69a56-d139-4f50-969f-cccd533b8a11",
   "metadata": {
    "include-cell-in-app": true
   },
   "source": [
    "\t•\tThe theoretical mean is 3.5.\n",
    "\t•\tYou got 3.539 — beautifully close, considering only 1,000 trials.\n",
    "\t•\tIf you increased trials to 100,000, it would be almost spot-on 3.5."
   ]
  },
  {
   "cell_type": "markdown",
   "id": "3f231fa4-98a5-4a92-9814-84fa91f7f1ab",
   "metadata": {
    "include-cell-in-app": true
   },
   "source": [
    "### 👉 That’s your first real taste of the law of large numbers: the more samples you take, the closer your empirical results get to the theoretical probability."
   ]
  },
  {
   "cell_type": "code",
   "execution_count": 17,
   "id": "b42516e5-bd7f-4328-a665-d8607d8c8833",
   "metadata": {
    "include-cell-in-app": true
   },
   "outputs": [
    {
     "name": "stdout",
     "output_type": "stream",
     "text": [
      "Counter({1: 1731, 2: 1704, 4: 1674, 6: 1658, 5: 1644, 3: 1589})\n",
      "Average Roll Value:  3.477\n"
     ]
    }
   ],
   "source": [
    "#rerunning the above trials with a much larger trial size to see if the averages become closer\n",
    "frequency_test = []\n",
    "for _ in range(10000):\n",
    "    frequency_test.append(roll_die())\n",
    "\n",
    "frequency_count = Counter(frequency_test)\n",
    "print(frequency_count)\n",
    "\n",
    "print(\"Average Roll Value: \", (sum(frequency_test)/len(frequency_test)))"
   ]
  },
  {
   "cell_type": "code",
   "execution_count": 19,
   "id": "eb57d0a8-060a-4349-a4b0-8c267c9e8eb9",
   "metadata": {
    "include-cell-in-app": true
   },
   "outputs": [],
   "source": [
    "def multi_die(t):\n",
    "    multi_die_test_list = []\n",
    "    for _ in range(t):\n",
    "        multi_die_test_list.append(roll_die() + roll_die())\n",
    "    return print(\"Multi Die Counter: \", Counter(multi_die_test_list))"
   ]
  },
  {
   "cell_type": "code",
   "execution_count": 20,
   "id": "1ef10673-feb7-41ac-96ac-901698f13cdc",
   "metadata": {
    "include-cell-in-app": true
   },
   "outputs": [
    {
     "name": "stdout",
     "output_type": "stream",
     "text": [
      "Multi Die Counter:  Counter({7: 1614, 8: 1439, 6: 1419, 9: 1121, 5: 1085, 4: 836, 10: 800, 11: 559, 3: 544, 2: 302, 12: 281})\n"
     ]
    }
   ],
   "source": [
    "multi_die(10000)"
   ]
  },
  {
   "cell_type": "code",
   "execution_count": 26,
   "id": "8760be91-1789-4e0e-a24a-36438e08d3eb",
   "metadata": {
    "include-cell-in-app": true
   },
   "outputs": [
    {
     "name": "stdout",
     "output_type": "stream",
     "text": [
      "Counter({6: 80, 7: 78, 8: 66, 5: 60, 9: 56, 4: 42, 10: 32, 3: 31, 11: 28, 12: 14, 2: 13})\n"
     ]
    }
   ],
   "source": [
    "#improving the function to accept 2 arguments\n",
    "\n",
    "def multi_die(num_dice, num_trials):\n",
    "    results = []\n",
    "    for _ in range(num_trials):\n",
    "        trial_sum = sum(roll_die() for _ in range(num_dice))\n",
    "        results.append(trial_sum)\n",
    "    return print(Counter(results))\n",
    "\n",
    "multi_die(2, 500)"
   ]
  },
  {
   "cell_type": "code",
   "execution_count": 44,
   "id": "05f10cfc-1bb6-41d3-9494-51443141278d",
   "metadata": {
    "include-cell-in-app": true
   },
   "outputs": [
    {
     "name": "stdout",
     "output_type": "stream",
     "text": [
      "2: 15\n",
      "3: 22\n",
      "4: 39\n",
      "5: 62\n",
      "6: 75\n",
      "7: 75\n",
      "8: 71\n",
      "9: 51\n",
      "10: 46\n",
      "11: 27\n",
      "12: 17\n"
     ]
    },
    {
     "data": {
      "text/plain": [
       "Counter({7: 75,\n",
       "         6: 75,\n",
       "         8: 71,\n",
       "         5: 62,\n",
       "         9: 51,\n",
       "         10: 46,\n",
       "         4: 39,\n",
       "         11: 27,\n",
       "         3: 22,\n",
       "         12: 17,\n",
       "         2: 15})"
      ]
     },
     "execution_count": 44,
     "metadata": {},
     "output_type": "execute_result"
    }
   ],
   "source": [
    "#modifying the function to print a vertically formatted result\n",
    "\n",
    "def multi_die(num_dice, num_trials):\n",
    "    results = []\n",
    "    for _ in range(num_trials):\n",
    "        trial_sum = sum(roll_die() for _ in range(num_dice))\n",
    "        results.append(trial_sum)\n",
    "    counts = (Counter(results))\n",
    "    for value in sorted(counts):\n",
    "        print(f\"{value}: {counts[value]}\")\n",
    "    return counts\n",
    "\n",
    "multi_die(2, 500)"
   ]
  },
  {
   "cell_type": "code",
   "execution_count": 46,
   "id": "6258e3b3-cc00-4667-b77e-065770ba9a09",
   "metadata": {
    "include-cell-in-app": true
   },
   "outputs": [
    {
     "name": "stdout",
     "output_type": "stream",
     "text": [
      "2: 2787\n",
      "3: 5512\n",
      "4: 8341\n",
      "5: 10908\n",
      "6: 13965\n",
      "7: 16815\n",
      "8: 13805\n",
      "9: 11038\n",
      "10: 8440\n",
      "11: 5620\n",
      "12: 2769\n"
     ]
    },
    {
     "data": {
      "text/plain": [
       "Counter({7: 16815,\n",
       "         6: 13965,\n",
       "         8: 13805,\n",
       "         9: 11038,\n",
       "         5: 10908,\n",
       "         10: 8440,\n",
       "         4: 8341,\n",
       "         11: 5620,\n",
       "         3: 5512,\n",
       "         2: 2787,\n",
       "         12: 2769})"
      ]
     },
     "execution_count": 46,
     "metadata": {},
     "output_type": "execute_result"
    }
   ],
   "source": [
    "multi_die(2, 100000)"
   ]
  },
  {
   "cell_type": "markdown",
   "id": "2447c668-5c22-4d7a-80e4-f21f431c2382",
   "metadata": {
    "include-cell-in-app": true
   },
   "source": [
    "### First Matplotlib Visual"
   ]
  },
  {
   "cell_type": "code",
   "execution_count": 47,
   "id": "d3718ed9-612b-476c-957d-f95c7c8f28dc",
   "metadata": {
    "include-cell-in-app": true
   },
   "outputs": [],
   "source": [
    "import matplotlib.pyplot as plt"
   ]
  },
  {
   "cell_type": "code",
   "execution_count": 48,
   "id": "9b5654d4-d0b5-47da-9450-80d5cd0381ee",
   "metadata": {
    "include-cell-in-app": true
   },
   "outputs": [
    {
     "name": "stdout",
     "output_type": "stream",
     "text": [
      "2: 290\n",
      "3: 543\n",
      "4: 898\n",
      "5: 1152\n",
      "6: 1336\n",
      "7: 1700\n",
      "8: 1328\n",
      "9: 1065\n",
      "10: 850\n",
      "11: 558\n",
      "12: 280\n"
     ]
    },
    {
     "data": {
      "image/png": "[encoded data removed]",
      "text/plain": [
       "<Figure size 640x480 with 1 Axes>"
      ]
     },
     "metadata": {},
     "output_type": "display_data"
    }
   ],
   "source": [
    "plot_counts = multi_die(2, 10000)\n",
    "keys = list(plot_counts.keys())\n",
    "values = list(plot_counts.values())\n",
    "\n",
    "plt.bar(keys, values)\n",
    "plt.xlabel(\"Dice Sum\")\n",
    "plt.ylabel(\"Frequency\")\n",
    "plt.title(\"Distribution of 2 Dice Rolls (10,000 Trials)\")\n",
    "\n",
    "plt.show()"
   ]
  },
  {
   "cell_type": "markdown",
   "id": "88d8069e-5893-4061-812d-8974b10133d5",
   "metadata": {
    "include-cell-in-app": true
   },
   "source": [
    "### the bar chart confirms the math you already know — 7 is most common, edges are rare. That’s the heart of simulation: “Does reality match theory?” ✅"
   ]
  },
  {
   "cell_type": "markdown",
   "id": "bd6323d2-cdcf-4e3d-ad43-475eabdc25f1",
   "metadata": {
    "include-cell-in-app": true
   },
   "source": [
    "### ✨ Two next-level tweaks you could try (optional challenges):\n",
    "#### 1.\tSort the bars by the dice sum - *Sometimes Counter doesn’t keep perfect order*\n",
    "#### 2.\tNormalize to probabilities - *Right now the Y-axis is raw counts (~1600 for 7). If you want to see probabilities (0 to 1 scale), divide each count by the total trials:*"
   ]
  },
  {
   "cell_type": "code",
   "execution_count": 49,
   "id": "73c86fbf-0d05-4800-accf-a33fc8102087",
   "metadata": {
    "include-cell-in-app": true
   },
   "outputs": [
    {
     "name": "stdout",
     "output_type": "stream",
     "text": [
      "2: 295\n",
      "3: 585\n",
      "4: 886\n",
      "5: 1096\n",
      "6: 1311\n",
      "7: 1718\n",
      "8: 1399\n",
      "9: 1068\n",
      "10: 812\n",
      "11: 544\n",
      "12: 286\n"
     ]
    },
    {
     "data": {
      "image/png": "[encoded data removed]",
      "text/plain": [
       "<Figure size 640x480 with 1 Axes>"
      ]
     },
     "metadata": {},
     "output_type": "display_data"
    }
   ],
   "source": [
    "plot_counts = multi_die(2, 10000)\n",
    "keys = sorted(plot_counts.keys())\n",
    "values = [plot_counts[k] for k in keys]\n",
    "\n",
    "total = sum(values)\n",
    "probabilities = [v/total for v in values]\n",
    "plt.bar(keys, probabilities)\n",
    "plt.ylabel(\"Probability\")\n",
    "plt.title(\"Probability Distribution of 2 Dice Rolls\")\n",
    "\n",
    "plt.show()"
   ]
  },
  {
   "cell_type": "code",
   "execution_count": null,
   "id": "3f093c91-f5d2-4c3b-9ff2-39d2cc8532d2",
   "metadata": {
    "include-cell-in-app": true
   },
   "outputs": [],
   "source": []
  }
 ],
 "metadata": {
  "kernelspec": {
   "display_name": "Python 3 (ipykernel)",
   "language": "python",
   "name": "python3"
  },
  "language_info": {
   "codemirror_mode": {
    "name": "ipython",
    "version": 3
   },
   "file_extension": ".py",
   "mimetype": "text/x-python",
   "name": "python",
   "nbconvert_exporter": "python",
   "pygments_lexer": "ipython3",
   "version": "3.10.18"
  }
 },
 "nbformat": 4,
 "nbformat_minor": 5
}
