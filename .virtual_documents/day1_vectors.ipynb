v1 = [1,2,3]
v2 = [4,5,6]

def vector_add(a, b):
    return [a[i] + b[i] for i in range(len(a))]

vector_add(v1, v2)


def scalar_mult(c, v):
    return [c * x for x in v]

scalar_mult(3, v1)


def dot_product(a, b):
    return sum(a[i] * b[i] for i in range(len(a)))

dot_product(v1, v2)


import numpy as np

np_v1 = np.array(v1)
np_v2 = np.array(v2)

np.dot(np_v1, np_v2)









