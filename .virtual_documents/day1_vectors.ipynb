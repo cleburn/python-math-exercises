v1 = [7,8,9]
v2 = [4,5,6]

def vector_add(a, b):
    return [a[i] + b[i] for i in range(len(a))]

vector_add(v1, v2)


def scalar_mult(c, v):
    return [c * x for x in v]

scalar_mult(3, v1)

def scalar_mult_inv(c, v):
    return [-1 * c * x for x in v]

scalar_mult_inv(3, v1)


# testing scalar and inverse scalar

print(scalar_mult(3, v1))
print(scalar_mult_inv(3, v1))


def dot_product(a, b):
    return sum(a[i] * b[i] for i in range(len(a)))

dot_product(v1, v2)


import numpy as np

np_v1 = np.array(v1)
np_v2 = np.array(v2)

np.dot(np_v1, np_v2)


matrix = [1, 3, 5, 4, 2]
def exponent_multiplier(x, y):
    return [i ** x for i in y]

exponent_multiplier(3, matrix)


list = (7, 12, 28, 14)
print(exponent_multiplier(9, list))


print(exponent_multiplier(2, matrix))


print(exponent_multiplier(4, list))















